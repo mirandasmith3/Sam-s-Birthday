{
 "cells": [
  {
   "cell_type": "code",
   "execution_count": 11,
   "id": "ff459676-c4f3-4828-b33b-4ac7ae033fc1",
   "metadata": {},
   "outputs": [],
   "source": [
    "# import libraries\n",
    "import pandas as pd\n",
    "import random"
   ]
  },
  {
   "cell_type": "code",
   "execution_count": 17,
   "id": "65ed4d75-1077-46ea-a537-9f7404a05506",
   "metadata": {},
   "outputs": [
    {
     "name": "stderr",
     "output_type": "stream",
     "text": [
      "C:\\Users\\miran\\AppData\\Local\\Temp\\ipykernel_17740\\951484587.py:3: ParserWarning: Falling back to the 'python' engine because the 'c' engine does not support regex separators (separators > 1 char and different from '\\s+' are interpreted as regex); you can avoid this warning by specifying engine='python'.\n",
      "  jokes = pd.read_csv(file_name, delimiter='<>', header=None, names=['question', 'answer'])\n"
     ]
    }
   ],
   "source": [
    "# read in the dad jokes text file\n",
    "file_name = 'jokes.txt'\n",
    "jokes = pd.read_csv(file_name, delimiter='<>', header=None, names=['question', 'answer'])"
   ]
  },
  {
   "cell_type": "code",
   "execution_count": 23,
   "id": "ce4ccbac-46c7-4a82-aae5-1f15057f4b34",
   "metadata": {},
   "outputs": [],
   "source": [
    "def get_random_dad_joke(jokes):\n",
    "    # Get the number of rows in the DataFrame\n",
    "    num_jokes = len(jokes)\n",
    "    \n",
    "    # Generate a random index within the range of the number of rows\n",
    "    random_index = random.randint(0, num_jokes - 1)\n",
    "    \n",
    "    # Select a random row (dad joke) from the DataFrame\n",
    "    random_joke = jokes.iloc[random_index]\n",
    "    \n",
    "    # Split the joke into question and answer based on '<>'\n",
    "    question, answer = random_joke['question'], random_joke['answer']\n",
    "\n",
    "    print(question, answer) "
   ]
  },
  {
   "cell_type": "code",
   "execution_count": 28,
   "id": "51fb868f-54bb-4c9f-98e8-8bf0a729a485",
   "metadata": {},
   "outputs": [
    {
     "name": "stdout",
     "output_type": "stream",
     "text": [
      "Two goldfish are in a tank.  One says to the other, “Do you know how to drive this thing?”\n",
      "None\n"
     ]
    }
   ],
   "source": [
    "# Example usage:\n",
    "get_random_dad_joke(jokes)"
   ]
  },
  {
   "cell_type": "code",
   "execution_count": null,
   "id": "c14098e7-38c2-4ffd-ac2f-d108a567b0c0",
   "metadata": {},
   "outputs": [],
   "source": []
  }
 ],
 "metadata": {
  "kernelspec": {
   "display_name": "Python 3 (ipykernel)",
   "language": "python",
   "name": "python3"
  },
  "language_info": {
   "codemirror_mode": {
    "name": "ipython",
    "version": 3
   },
   "file_extension": ".py",
   "mimetype": "text/x-python",
   "name": "python",
   "nbconvert_exporter": "python",
   "pygments_lexer": "ipython3",
   "version": "3.11.5"
  }
 },
 "nbformat": 4,
 "nbformat_minor": 5
}
